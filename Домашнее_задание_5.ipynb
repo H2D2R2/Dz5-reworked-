{
  "nbformat": 4,
  "nbformat_minor": 0,
  "metadata": {
    "colab": {
      "name": "Домашнее задание 5",
      "provenance": [],
      "collapsed_sections": [],
      "authorship_tag": "ABX9TyO1nH/Q/7UPApzs7L7wLt7A",
      "include_colab_link": true
    },
    "kernelspec": {
      "name": "python3",
      "display_name": "Python 3"
    }
  },
  "cells": [
    {
      "cell_type": "markdown",
      "metadata": {
        "id": "view-in-github",
        "colab_type": "text"
      },
      "source": [
        "<a href=\"https://colab.research.google.com/github/H2D2R2/Dz5-reworked-/blob/main/%D0%94%D0%BE%D0%BC%D0%B0%D1%88%D0%BD%D0%B5%D0%B5_%D0%B7%D0%B0%D0%B4%D0%B0%D0%BD%D0%B8%D0%B5_5.ipynb\" target=\"_parent\"><img src=\"https://colab.research.google.com/assets/colab-badge.svg\" alt=\"Open In Colab\"/></a>"
      ]
    },
    {
      "cell_type": "markdown",
      "metadata": {
        "id": "a_b45k_WS118"
      },
      "source": [
        "# (Исправленное) "
      ]
    },
    {
      "cell_type": "markdown",
      "metadata": {
        "id": "eWNn9gTkJUvn"
      },
      "source": [
        "# Задание 1\n",
        "\n",
        "Известно, что генеральная совокупность распределена нормально со средним квадратическим отклонением, равным 16. Найти доверительный интервал для оценки математического ожидания a с надежностью 0.95, если выборочная средняя M = 80, а объем выборки n = 256."
      ]
    },
    {
      "cell_type": "code",
      "metadata": {
        "colab": {
          "base_uri": "https://localhost:8080/"
        },
        "id": "SE5_pe3MIkc4",
        "outputId": "f872edf6-0ab5-484d-c3ef-897ef5531231"
      },
      "source": [
        "M = 80\n",
        "z = 1.96\n",
        "sigma = 16                                                                      #исправил значение и наименование сигмы для наглядности \n",
        "n = 256\n",
        "\n",
        "A0 = M - (z * sigma/np.sqrt(n))\n",
        "A1 = M + (z * sigma/np.sqrt(n))                                                 #и добавил корень из объема выборки (раньше его нашел без формулы)\n",
        "\n",
        "A0"
      ],
      "execution_count": null,
      "outputs": [
        {
          "output_type": "execute_result",
          "data": {
            "text/plain": [
              "78.04"
            ]
          },
          "metadata": {
            "tags": []
          },
          "execution_count": 4
        }
      ]
    },
    {
      "cell_type": "code",
      "metadata": {
        "colab": {
          "base_uri": "https://localhost:8080/"
        },
        "id": "loRJW6xrQEZP",
        "outputId": "327eece2-c727-4997-8742-5a15e0f7b068"
      },
      "source": [
        "A1"
      ],
      "execution_count": null,
      "outputs": [
        {
          "output_type": "execute_result",
          "data": {
            "text/plain": [
              "81.96"
            ]
          },
          "metadata": {
            "tags": []
          },
          "execution_count": 5
        }
      ]
    },
    {
      "cell_type": "markdown",
      "metadata": {
        "id": "zijX9jaPQGVj"
      },
      "source": [
        "Ответ: {78.04;81.96}\n",
        "\n",
        "\n",
        "\n"
      ]
    },
    {
      "cell_type": "markdown",
      "metadata": {
        "id": "GA6bsVBbQVl7"
      },
      "source": [
        "# Задание 2\n",
        "\n",
        "В результате 10 независимых измерений некоторой величины X, выполненных с одинаковой точностью, получены опытные данные: 6.9, 6.1, 6.2, 6.8, 7.5, 6.3, 6.4, 6.9, 6.7, 6.1 Предполагая, что результаты измерений подчинены нормальному закону распределения вероятностей, оценить истинное значение величины X при помощи доверительного интервала, покрывающего это значение с доверительной вероятностью 0,95. "
      ]
    },
    {
      "cell_type": "code",
      "metadata": {
        "colab": {
          "base_uri": "https://localhost:8080/"
        },
        "id": "eGJ1TUr2Qajb",
        "outputId": "0c826d6a-e8b4-477b-93d6-1f8ebca731b7"
      },
      "source": [
        "import numpy as np\n",
        "import pandas as pd\n",
        "import matplotlib.pyplot as plt\n",
        "import warnings\n",
        "\n",
        "a = [6.9, 6.1, 6.2, 6.8, 7.5, 6.3, 6.4, 6.9, 6.7, 6.1]\n",
        "a.sort()\n",
        "a"
      ],
      "execution_count": null,
      "outputs": [
        {
          "output_type": "execute_result",
          "data": {
            "text/plain": [
              "[6.1, 6.1, 6.2, 6.3, 6.4, 6.7, 6.8, 6.9, 6.9, 7.5]"
            ]
          },
          "metadata": {
            "tags": []
          },
          "execution_count": 8
        }
      ]
    },
    {
      "cell_type": "code",
      "metadata": {
        "colab": {
          "base_uri": "https://localhost:8080/"
        },
        "id": "T6-8hlwIUFUC",
        "outputId": "43cdff5d-c979-4ded-ba15-5ea6e291174a"
      },
      "source": [
        "sigma = np.std(a, ddof=1)\n",
        "sigma"
      ],
      "execution_count": null,
      "outputs": [
        {
          "output_type": "execute_result",
          "data": {
            "text/plain": [
              "0.4508017549014448"
            ]
          },
          "metadata": {
            "tags": []
          },
          "execution_count": 20
        }
      ]
    },
    {
      "cell_type": "code",
      "metadata": {
        "colab": {
          "base_uri": "https://localhost:8080/"
        },
        "id": "jT99Aa1kVi0s",
        "outputId": "7479f04b-f384-4015-edc2-cf2031fdcaf8"
      },
      "source": [
        "x = np.mean(a)\n",
        "x"
      ],
      "execution_count": null,
      "outputs": [
        {
          "output_type": "execute_result",
          "data": {
            "text/plain": [
              "6.590000000000001"
            ]
          },
          "metadata": {
            "tags": []
          },
          "execution_count": 21
        }
      ]
    },
    {
      "cell_type": "code",
      "metadata": {
        "id": "J4lWwSbFWSlF"
      },
      "source": [
        "t = 2.262\n",
        "n = 10"
      ],
      "execution_count": null,
      "outputs": []
    },
    {
      "cell_type": "code",
      "metadata": {
        "colab": {
          "base_uri": "https://localhost:8080/"
        },
        "id": "UFQZhbqyWkCS",
        "outputId": "55dea855-6d98-4353-a84c-6625f6ee9b1e"
      },
      "source": [
        "A0 = x - t*(sigma/np.sqrt(n))\n",
        "A0"
      ],
      "execution_count": null,
      "outputs": [
        {
          "output_type": "execute_result",
          "data": {
            "text/plain": [
              "6.267538255912426"
            ]
          },
          "metadata": {
            "tags": []
          },
          "execution_count": 24
        }
      ]
    },
    {
      "cell_type": "code",
      "metadata": {
        "colab": {
          "base_uri": "https://localhost:8080/"
        },
        "id": "crJJGkGqXHKR",
        "outputId": "3c046a72-826e-42fe-d715-b99b3abdefc7"
      },
      "source": [
        "A1 = x + t*(sigma/np.sqrt(n))\n",
        "A1"
      ],
      "execution_count": null,
      "outputs": [
        {
          "output_type": "execute_result",
          "data": {
            "text/plain": [
              "6.912461744087575"
            ]
          },
          "metadata": {
            "tags": []
          },
          "execution_count": 26
        }
      ]
    },
    {
      "cell_type": "markdown",
      "metadata": {
        "id": "0UlZz8qCXMm8"
      },
      "source": [
        "Ответ: {6.26;6.91}"
      ]
    },
    {
      "cell_type": "markdown",
      "metadata": {
        "id": "nFXuZutaXy2N"
      },
      "source": [
        "# Задание 3\n",
        "\n",
        "Утверждается, что шарики для подшипников, изготовленные автоматическим станком, имеют средний диаметр 17 мм.\n",
        "Используя односторонний критерий с α=0,05, проверить эту гипотезу, если в выборке из n=100 шариков средний диаметр\n",
        "оказался равным 17.5 мм, а дисперсия известна и равна 4 кв.мм."
      ]
    },
    {
      "cell_type": "code",
      "metadata": {
        "colab": {
          "base_uri": "https://localhost:8080/"
        },
        "id": "npx0cuEtaZ4L",
        "outputId": "6ab59d56-44ff-4967-8ebf-9a8bd442f328"
      },
      "source": [
        "mu0 = 17\n",
        "mu = 17.5\n",
        "D = 4\n",
        "sigma = np.sqrt(D)                                                              #добавил для наглядности обозначения mu и mu0, сигму как корень из дисперсии \n",
        "n = 100\n",
        "\n",
        "zr = (mu - mu0)/(sigma/np.sqrt(n))                                              #расчеты были неправильными, так как не было скобки в нижней части деления, исправил\n",
        "zr                                                                               #добавил z расчетное \n"
      ],
      "execution_count": null,
      "outputs": [
        {
          "output_type": "execute_result",
          "data": {
            "text/plain": [
              "2.5"
            ]
          },
          "metadata": {
            "tags": []
          },
          "execution_count": 28
        }
      ]
    },
    {
      "cell_type": "code",
      "metadata": {
        "colab": {
          "base_uri": "https://localhost:8080/"
        },
        "id": "j-aQzhCyXwX_",
        "outputId": "452308c4-4be5-4e30-dbcb-9b41cd7657e7"
      },
      "source": [
        "\n",
        "zt = 1.6                               #добавил z табличное  \n",
        "\n",
        "zt < zr"
      ],
      "execution_count": null,
      "outputs": [
        {
          "output_type": "execute_result",
          "data": {
            "text/plain": [
              "True"
            ]
          },
          "metadata": {
            "tags": []
          },
          "execution_count": 30
        }
      ]
    },
    {
      "cell_type": "markdown",
      "metadata": {
        "id": "TMYgHgEZcQBh"
      },
      "source": [
        "Ответ: Теория верна на уровне значимости 5%"
      ]
    },
    {
      "cell_type": "markdown",
      "metadata": {
        "id": "mAt87mCmcaUS"
      },
      "source": [
        "# Задание 4\n",
        "\n",
        "Продавец утверждает, что средний вес пачки печенья составляет 200 г.\n",
        "Из партии извлечена выборка из 10 пачек. Вес каждой пачки составляет:\n",
        "202, 203, 199, 197, 195, 201, 200, 204, 194, 190.\n",
        "Известно, что их веса распределены нормально.\n",
        "Верно ли утверждение продавца, если учитывать, что доверительная вероятность равна 99%?"
      ]
    },
    {
      "cell_type": "code",
      "metadata": {
        "id": "gKuZAiUydZsV"
      },
      "source": [
        "x = [202, 203, 199, 197, 195, 201, 200, 204, 194, 190]                          #изменил обозначения и убрал ненужную сортировку массива\n",
        "mu0 = 200\n",
        "t = 3.25\n",
        "n = 10"
      ],
      "execution_count": null,
      "outputs": []
    },
    {
      "cell_type": "code",
      "metadata": {
        "colab": {
          "base_uri": "https://localhost:8080/"
        },
        "id": "fYLlBveBdhgi",
        "outputId": "d405e15d-8d5f-4c2f-a019-133b00b4a73f"
      },
      "source": [
        "sigma = np.std(x, ddof=1)\n",
        "sigma"
      ],
      "execution_count": null,
      "outputs": [
        {
          "output_type": "execute_result",
          "data": {
            "text/plain": [
              "4.453463071962462"
            ]
          },
          "metadata": {
            "tags": []
          },
          "execution_count": 39
        }
      ]
    },
    {
      "cell_type": "code",
      "metadata": {
        "colab": {
          "base_uri": "https://localhost:8080/"
        },
        "id": "Ftb1WIy0lWp_",
        "outputId": "be2390de-ca1e-4f73-c726-26049286d17a"
      },
      "source": [
        "mu = np.mean(x)\n",
        "mu"
      ],
      "execution_count": null,
      "outputs": [
        {
          "output_type": "execute_result",
          "data": {
            "text/plain": [
              "198.5"
            ]
          },
          "metadata": {
            "tags": []
          },
          "execution_count": 40
        }
      ]
    },
    {
      "cell_type": "code",
      "metadata": {
        "colab": {
          "base_uri": "https://localhost:8080/"
        },
        "id": "FlxCwvwlm4Do",
        "outputId": "3a61e72b-8f05-4427-a3e1-af8972feaec9"
      },
      "source": [
        "H1 = (mu - mu0)/(sigma/np.sqrt(n))                                              #поправил формулу\n",
        "H1"
      ],
      "execution_count": null,
      "outputs": [
        {
          "output_type": "execute_result",
          "data": {
            "text/plain": [
              "-1.0651074037450896"
            ]
          },
          "metadata": {
            "tags": []
          },
          "execution_count": 42
        }
      ]
    },
    {
      "cell_type": "code",
      "metadata": {
        "colab": {
          "base_uri": "https://localhost:8080/"
        },
        "id": "-YxPWYdabb-q",
        "outputId": "db5b85b0-bfde-4744-bbe4-ed544438d69c"
      },
      "source": [
        "H0 = -3.25                                                                      #нашел табличное значение и сравнил с расчетным\n",
        "H1 > H0"
      ],
      "execution_count": null,
      "outputs": [
        {
          "output_type": "execute_result",
          "data": {
            "text/plain": [
              "False"
            ]
          },
          "metadata": {
            "tags": []
          },
          "execution_count": 44
        }
      ]
    },
    {
      "cell_type": "markdown",
      "metadata": {
        "id": "S4XxkbAAndgH"
      },
      "source": [
        "Ответ: Утверждение продавца верно на уровне значимости 1%"
      ]
    }
  ]
}